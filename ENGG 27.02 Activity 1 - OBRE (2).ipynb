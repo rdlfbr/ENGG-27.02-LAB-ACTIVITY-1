{
 "cells": [
  {
   "cell_type": "markdown",
   "metadata": {},
   "source": [
    "## 1.2 Evaluate $e^{-5}$ using two approaches"
   ]
  },
  {
   "cell_type": "code",
   "execution_count": 1,
   "metadata": {
    "scrolled": true
   },
   "outputs": [
    {
     "name": "stdout",
     "output_type": "stream",
     "text": [
      "0.006737946999085467\n"
     ]
    }
   ],
   "source": [
    "trueValue = ℯ^-5\n",
    "\n",
    "println(trueValue)"
   ]
  },
  {
   "cell_type": "markdown",
   "metadata": {},
   "source": [
    "### First approach"
   ]
  },
  {
   "cell_type": "code",
   "execution_count": 3,
   "metadata": {
    "scrolled": true
   },
   "outputs": [
    {
     "name": "stdout",
     "output_type": "stream",
     "text": [
      "Term #    Approximation               True Error          Relative Error\n",
      "1\t1.0\t100.0\tInf%\n",
      "2\t-5.0\t74306.5795512883\t100.0%\n",
      "3\t13.5\t-14741.31591025766\t-250.0%\n",
      "4\t-25.833333333333332\t383500.66101498954\t80.64516129032258%\n",
      "5\t39.54166666666667\t-200257.76478847844\t-100.80645161290325%\n",
      "6\t-51.875\t769993.2628446162\t50.20080321285141%\n",
      "7\t61.24305555555556\t-586750.366618105\t-41.83400267737616%\n",
      "8\t-67.37599206349206\t1.0000483829812985e6\t23.006699550909225%\n",
      "9\t70.9311755952381\t-908827.5348094605\t-14.379187219318274%\n",
      "10\t-72.75828097442681\t1.0799286330287578e6\t7.397493232181396%\n",
      "11\t73.62232005070547\t-1.0526119848948873e6\t-3.698746616090688%\n",
      "12\t-73.98152845418471\t1.0980832353122712e6\t1.653449861495406%\n",
      "13\t74.13200650060459\t-1.0925521099186167e6\t-0.6889374422897461%\n",
      "14\t-74.17756170414592\t1.10099262670386e6\t0.26427567239682803%\n",
      "15\t74.20201837559074\t-1.1001165275367473e6\t-0.09438416871316108%\n",
      "16\t-74.20089899580796\t1.1013389828219062e6\t0.03145149449383869%\n",
      "17\t74.20931127923512\t-1.1011555958908862e6\t-0.009828592029317408%\n",
      "18\t-74.20304396746808\t1.1013708170239327e6\t0.0028906787989126104%\n",
      "19\t74.20990710469627\t-1.1012638321777757e6\t-0.0008029663330366005%\n",
      "20\t-74.20320076364206\t1.1013731440854843e6\t0.0002113064832361919%\n",
      "e^-5 = 0.006706341054211862\n"
     ]
    }
   ],
   "source": [
    "n = 20 # Where n is the number of iterations\n",
    "\n",
    "function approach1(x)\n",
    "    new_sumOdd = 0 # odd terms of he series\n",
    "    new_sumEven = 0 # even terms of the series\n",
    "    sumOdd = 0\n",
    "    sumEven = 0\n",
    "    sumTotal = 0 # sum of the entire series\n",
    "    trueValue = ℯ^-5\n",
    "    \n",
    "    println(\"Term #    Approximation               True Error          Relative Error\" )\n",
    "    for i in 1:n\n",
    "        if (i-1)%2 != 0\n",
    "            new_sumOdd = sumOdd - x^(i-1)/factorial(i-1)\n",
    "            trueError = abs((trueValue - new_sumOdd)/trueValue)*100\n",
    "            approxError = abs((new_sumOdd - sumOdd)/new_sumOdd)*100\n",
    "            println(i, \"\\t\", new_sumOdd, \"\\t\", trueError, \"\\t\", approxError, \"%\")\n",
    "            sumOdd = new_sumOdd\n",
    "        elseif (i-1)%2 == 0\n",
    "            new_sumEven = sumEven + x^(i-1)/factorial(i-1)\n",
    "            trueError = ((trueValue - sumEven)/trueValue)*100\n",
    "            approxError = ((new_sumEven - sumEven)/new_sumOdd)*100\n",
    "            println(i, \"\\t\", new_sumEven, \"\\t\", trueError, \"\\t\", approxError, \"%\")\n",
    "            sumEven = new_sumEven\n",
    "        end\n",
    "    end\n",
    "    sumTotal = sumOdd + sumEven\n",
    "end\n",
    "println(\"e^-5 = \", approach1(5))"
   ]
  },
  {
   "cell_type": "markdown",
   "metadata": {},
   "source": [
    "### Second approach"
   ]
  },
  {
   "cell_type": "code",
   "execution_count": 4,
   "metadata": {
    "scrolled": true
   },
   "outputs": [
    {
     "name": "stdout",
     "output_type": "stream",
     "text": [
      "Term #    Approximation               True Error          Relative Error\n",
      "1\tInf\t14741.31591025766\t100.0%\n",
      "2\t1.0\t2373.5526517096096\t83.33333333333334%\n",
      "3\t0.16666666666666666\t702.23329244636\t67.56756756756756%\n",
      "4\t0.05405405405405406\t277.32159093875407\t52.966101694915245%\n",
      "5\t0.025423728813559324\t127.01821660049958\t39.83428935627789%\n",
      "6\t0.015296367112810707\t62.348031835088335\t28.486782133090248%\n",
      "7\t0.010938924339106653\t31.202006941930332\t19.1847258886365%\n",
      "8\t0.008840321689483701\t15.389720146394248\t12.05186350734296%\n",
      "9\t0.00777489818585709\t7.30691808307633\t7.0047852209566965%\n",
      "10\t0.007230283266789742\t3.28743851197011\t3.7457785974193873%\n",
      "11\t0.006959452863649537\t1.3885433337545783\t1.8384570336648098%\n",
      "12\t0.006831506312973185\t0.5482991167805822\t0.8287368467343011%\n",
      "13\t0.006774891102970596\t0.2022935634334704\t0.3441187532622955%\n",
      "14\t0.006751577432172176\t0.06984775094422271\t0.13217842404514837%\n",
      "15\t0.006742653303524142\t0.022630487848758832\t0.04718430591899024%\n",
      "16\t0.006739471829362351\t0.006901300432190683\t0.015725628630089913%\n",
      "17\t0.006738412005050836\t0.00198694384172234\t0.004914017459356858%\n",
      "18\t0.006738080878308424\t0.0005416367607032841\t0.0014452783641467344%\n",
      "19\t0.006737983494283331\t0.00014016998570100605\t0.000401464600523576%\n",
      "20\t0.006737956443664812\t3.452137013995593e-5\t0.00010564846747610228%\n",
      "e^-5 = 0.00673794932511709\n"
     ]
    }
   ],
   "source": [
    "n = 20 # Where n is the number of iterations\n",
    "\n",
    "function approach2(x)\n",
    "    new_sum = 0\n",
    "    sum = 0\n",
    "    \n",
    "    println(\"Term #    Approximation               True Error          Relative Error\" )\n",
    "    for i in 1:n\n",
    "        new_sum = sum + x^(i-1)/factorial(i-1)\n",
    "        trueError = abs((trueValue - (1/new_sum))/trueValue)*100\n",
    "        approxError = abs((new_sum - sum)/new_sum)*100\n",
    "        println(i,  \"\\t\", 1/sum, \"\\t\", trueError, \"\\t\", approxError, \"%\")\n",
    "        sum = new_sum\n",
    "    end\n",
    "    1/sum\n",
    "end\n",
    "println(\"e^-5 = \", approach2(5))"
   ]
  },
  {
   "cell_type": "markdown",
   "metadata": {},
   "source": [
    "### Conclusion\n",
    "The first approach for approximating the value for $e^{-5}$ was only accurate up to 2 significant digits and the second approach is accurate up to 6 significant digits.\n",
    "\n",
    "However, the margin of error for the first approach was positive while the margin of error for the second approach was negative. This means that approach two's approximation is higher than the true value of $e^{-5}$. Nevertheless, approach two is still the more accurate approximation of the true value."
   ]
  },
  {
   "cell_type": "markdown",
   "metadata": {},
   "source": [
    "## 1.3 Maclaurin series expansion of $cosx$"
   ]
  },
  {
   "cell_type": "code",
   "execution_count": 21,
   "metadata": {
    "scrolled": true
   },
   "outputs": [
    {
     "name": "stdout",
     "output_type": "stream",
     "text": [
      "Term #    Approximation               True Error          Relative Error\n",
      "2\t \t0\t \t100.0\t \t100.0%\n",
      "4\t \t0\t \t100.0\t \t100.0%\n",
      "6\t \t0.5\t \t2.2204460492503124e-14\t \t5.5114608076873964e-5%\n",
      "0.5013891644620811\n"
     ]
    }
   ],
   "source": [
    "function macExpansion_Cos(x, sigfigs)\n",
    "    new_sumEven = 0\n",
    "    new_sumOdd = 0\n",
    "    sumOdd = 0\n",
    "    sumEven = 0\n",
    "    trueValue = cos(x)\n",
    "    trueError = 1\n",
    "    i = 2\n",
    "    approxError = 1\n",
    "    tol = 0.5*10^(2-sigfigs)\n",
    "    \n",
    "    println(\"Term #    Approximation               True Error          Relative Error\")\n",
    "    while approxError > tol\n",
    "        if i%4 == 0\n",
    "            new_sumEven = sumEven + (1^(2i-2))/factorial(2i-2)\n",
    "            trueError = abs((trueValue - sumEven)/trueValue)*100\n",
    "            approxError = abs((new_sumEven - sumEven)/new_sumEven)*100\n",
    "            println(i,  \"\\t \\t\", sumEven, \"\\t \\t\", trueError, \"\\t \\t\", approxError, \"%\" )\n",
    "            sumEven = new_sumEven\n",
    "        elseif i%4 != 0\n",
    "            new_sumOdd = sumOdd + (1^(2i-2))/factorial(2i-2)\n",
    "            trueError = abs((trueValue - sumOdd)/trueValue)*100\n",
    "            approxError = abs((new_sumOdd - sumOdd)/new_sumOdd)*100\n",
    "            println(i,  \"\\t \\t\", sumOdd, \"\\t \\t\", trueError, \"\\t \\t\", approxError, \"%\")\n",
    "            sumOdd = new_sumOdd\n",
    "        end\n",
    "        i += 2\n",
    "    end\n",
    "    sumCos = sumOdd + sumEven\n",
    "end\n",
    "println(macExpansion_Cos(pi/3, 2))"
   ]
  },
  {
   "cell_type": "code",
   "execution_count": null,
   "metadata": {},
   "outputs": [],
   "source": []
  }
 ],
 "metadata": {
  "kernelspec": {
   "display_name": "Julia 1.5.1",
   "language": "julia",
   "name": "julia-1.5"
  },
  "language_info": {
   "file_extension": ".jl",
   "mimetype": "application/julia",
   "name": "julia",
   "version": "1.5.1"
  }
 },
 "nbformat": 4,
 "nbformat_minor": 4
}
