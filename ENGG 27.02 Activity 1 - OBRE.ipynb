{
 "cells": [
  {
   "cell_type": "markdown",
   "metadata": {},
   "source": [
    "## 1.2 Evaluate $e^{-5}$ using two approaches"
   ]
  },
  {
   "cell_type": "code",
   "execution_count": null,
   "metadata": {
    "scrolled": true
   },
   "outputs": [],
   "source": [
    "trueValue = ℯ^-5\n",
    "\n",
    "println(trueValue)"
   ]
  },
  {
   "cell_type": "markdown",
   "metadata": {},
   "source": [
    "### First approach"
   ]
  },
  {
   "cell_type": "code",
   "execution_count": null,
   "metadata": {
    "scrolled": true
   },
   "outputs": [],
   "source": [
    "n = 20 # Where n is the number of iterations\n",
    "\n",
    "function approach1(x)\n",
    "    new_sumOdd = 0 # odd terms of he series\n",
    "    new_sumEven = 0 # even terms of the series\n",
    "    sumOdd = 0\n",
    "    sumEven = 0\n",
    "    sumTotal = 0 # sum of the entire series\n",
    "    trueValue = ℯ^-5\n",
    "    \n",
    "    println(\"Term #    Approximation               True Error          Relative Error\" )\n",
    "    for i in 1:n\n",
    "        if (i-1)%2 != 0\n",
    "            new_sumOdd = sumOdd - x^(i-1)/factorial(i-1)\n",
    "            trueError = abs((trueValue - new_sumOdd)/trueValue)*100\n",
    "            approxError = abs((new_sumOdd - sumOdd)/new_sumOdd)*100\n",
    "            println(i, \"\\t\" new_sumOdd, \"\\t\", trueError, \"\\t\", approxError, \"%\")\n",
    "            sumOdd = new_sumOdd\n",
    "        elseif (i-1)%2 == 0\n",
    "            new_sumEven = sumEven + x^(i-1)/factorial(i-1)\n",
    "            trueError = ((trueValue - sumEven)/trueValue)*100\n",
    "            approxError = ((new_sumEven - sumEven)/new_sumOdd)*100\n",
    "            println(i, \"\\t\", new_sumEven, \"\\t\", trueError, \"\\t\", approxError, \"%\")\n",
    "            sumEven = new_sumEven\n",
    "        end\n",
    "    end\n",
    "    sumTotal = sumOdd + sumEven\n",
    "end\n",
    "println(\"e^-5 = \", approach1(5))"
   ]
  },
  {
   "cell_type": "markdown",
   "metadata": {},
   "source": [
    "### Second approach"
   ]
  },
  {
   "cell_type": "code",
   "execution_count": null,
   "metadata": {
    "scrolled": true
   },
   "outputs": [],
   "source": [
    "n = 20 # Where n is the number of iterations\n",
    "\n",
    "function approach2(x)\n",
    "    new_sum = 0\n",
    "    sum = 0\n",
    "    \n",
    "    println(\"Term #    Approximation               True Error          Relative Error\" )\n",
    "    for i in 1:n\n",
    "        new_sum = sum + x^(i-1)/factorial(i-1)\n",
    "        trueError = abs((trueValue - (1/new_sum))/trueValue)*100\n",
    "        approxError = abs((new_sum - sum)/new_sum)*100\n",
    "        println(i,  \"\\t\", 1/sum, \"\\t\", trueError, \"\\t\", approxError, \"%\")\n",
    "        sum = new_sum\n",
    "    end\n",
    "    1/sum\n",
    "end\n",
    "println(\"e^-5 = \", approach2(5))"
   ]
  },
  {
   "cell_type": "markdown",
   "metadata": {},
   "source": [
    "### Conclusion\n",
    "The first approach for approximating the value for $e^{-5}$ was only accurate up to 2 significant digits and the second approach is accurate up to 6 significant digits.\n",
    "\n",
    "However, the margin of error for the first approach was positive while the margin of error for the second approach was negative. This means that approach two's approximation is higher than the true value of $e^{-5}$. Nevertheless, approach two is still the more accurate approximation of the true value."
   ]
  },
  {
   "cell_type": "markdown",
   "metadata": {},
   "source": [
    "## 1.3 Maclaurin series expansion of $cosx$"
   ]
  },
  {
   "cell_type": "code",
   "execution_count": null,
   "metadata": {
    "scrolled": true
   },
   "outputs": [],
   "source": [
    "function macExpansion_Cos(x, sigfigs)\n",
    "    new_sumEven = 0\n",
    "    new_sumOdd = 0\n",
    "    sumOdd = 0\n",
    "    sumEven = 0\n",
    "    trueValue = cos(x)\n",
    "    trueError = 1\n",
    "    i = 2\n",
    "    approxError = 1\n",
    "    tol = 0.5*10^(2-sigfigs)\n",
    "    \n",
    "    while approxError > tol\n",
    "        if i%2 == 0\n",
    "            new_sumEven = sumEven - (1^(2i-2))/factorial(2i-2)\n",
    "            trueError = abs((trueValue - sumEven)/trueValue)*100\n",
    "            approxError = abs((new_sumEven - sumEven)/new_sumEven)*100\n",
    "            println(i,  \"\\t\", sumEven, \"\\t\", trueError, \"\\t\", approxError, \"%\" )\n",
    "            sumEven = new_sumEven\n",
    "        elseif i%2 != 0\n",
    "            new_sumOdd = sumOdd + (1^(2i-2))/factorial(2i-2)\n",
    "            trueError = abs((trueValue - sumOdd)/trueValue)*100\n",
    "            approxError = abs((new_sumOdd - sumOdd)/new_sumOdd)*100\n",
    "            println(i,  \"\\t\", sumOdd, \"\\t\", trueError, \"\\t\", approxError, \"%\")\n",
    "            sumOdd = new_sumOdd\n",
    "        end\n",
    "        i++\n",
    "    end\n",
    "    sumCos = sumOdd + sumEven\n",
    "end\n",
    "println(macExpansion_Cos(pi/3, 2))"
   ]
  },
  {
   "cell_type": "code",
   "execution_count": null,
   "metadata": {},
   "outputs": [],
   "source": []
  }
 ],
 "metadata": {
  "kernelspec": {
   "display_name": "Julia 1.5.1",
   "language": "julia",
   "name": "julia-1.5"
  },
  "language_info": {
   "file_extension": ".jl",
   "mimetype": "application/julia",
   "name": "julia",
   "version": "1.5.1"
  }
 },
 "nbformat": 4,
 "nbformat_minor": 4
}
