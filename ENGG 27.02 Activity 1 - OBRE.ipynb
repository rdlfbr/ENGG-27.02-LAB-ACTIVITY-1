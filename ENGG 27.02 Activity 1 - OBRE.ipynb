{
 "cells": [
  {
   "cell_type": "markdown",
   "metadata": {},
   "source": [
    "## 1.2 Evaluate $e^{-5}$ using two approaches"
   ]
  },
  {
   "cell_type": "code",
   "execution_count": 22,
   "metadata": {
    "scrolled": true
   },
   "outputs": [
    {
     "name": "stdout",
     "output_type": "stream",
     "text": [
      "0.006737946999085467\n"
     ]
    }
   ],
   "source": [
    "trueValue = ℯ^-5\n",
    "\n",
    "println(trueValue)"
   ]
  },
  {
   "cell_type": "markdown",
   "metadata": {},
   "source": [
    "### First approach"
   ]
  },
  {
   "cell_type": "code",
   "execution_count": 78,
   "metadata": {
    "scrolled": false
   },
   "outputs": [
    {
     "name": "stdout",
     "output_type": "stream",
     "text": [
      "Term #    Approximation               True Error          Relative Error\n",
      "1\t1.0\t14741.31591025766%\t100.0%\n",
      "2\t-4.0\t59465.26364103064%\t125.0%\n",
      "3\t8.5\t126051.18523719013%\t147.05882352941177%\n",
      "4\t-12.333333333333332\t183142.8962265111%\t168.91891891891893%\n",
      "5\t13.70833333333334\t203349.70560311552%\t189.96960486322183%\n",
      "6\t-12.333333333333329\t183142.89622651107%\t211.14864864864873%\n",
      "7\t9.368055555555557\t138934.27196484437%\t231.65307635285387%\n",
      "8\t-6.132936507936506\t91120.84817183812%\t252.74991912002594%\n",
      "9\t3.5551835317460387\t52663.6019135885%\t272.50688897415284%\n",
      "10\t-1.8271053791887084\t27216.648133870734%\t294.5801031643096%\n",
      "11\t0.8640390762786581\t12723.47688985878%\t311.46096621670097%\n",
      "12\t-0.35920840347924354\t5431.125393654751%\t340.53977243006943%\n",
      "13\t0.1504780464198774\t2133.292224475817%\t338.71150112950556%\n",
      "14\t-0.04555520354132625\t776.0991671129113%\t430.3202153039848%\n",
      "15\t0.024456671444823996\t262.96918702601056%\t286.2690253827143%\n",
      "16\t0.0011193797827786511\t83.38693102022644%\t2084.841268449112%\n",
      "17\t0.008412283427162492\t24.849355869143537%\t86.69350845735563%\n",
      "18\t0.00626731176704709\t6.984846157178969%\t34.22474802344209%\n",
      "19\t0.006863137228194205\t1.8579877390803134%\t8.681532094381355%\n",
      "20\t0.006706341054211862\t0.4690738125113638%\t2.3380286316316794%\n",
      "e^-5 = 0.006706341054211862\n"
     ]
    }
   ],
   "source": [
    "n = 20 # Where n is the number of iterations\n",
    "\n",
    "function approach1(x)\n",
    "    new_sumOdd = 0 # new odd term\n",
    "    new_sumEven = 0 # new even term\n",
    "    sumOdd = 0 # current odd term\n",
    "    sumEven = 0 # current even term\n",
    "    sumTotal = 0 # sum of the entire series\n",
    "    trueValue = ℯ^(-5) \n",
    "    \n",
    "    println(\"Term #    Approximation               True Error          Relative Error\" )\n",
    "    \n",
    "    for i in 1:n\n",
    "        if (i-1)%2 != 0\n",
    "            new_sumOdd = sumOdd - x^(i-1)/factorial(i-1)\n",
    "            new_sumTotal = new_sumOdd + new_sumEven\n",
    "            trueError = abs((trueValue - new_sumTotal)/trueValue)*100\n",
    "            approxError = abs((new_sumTotal - sumTotal)/new_sumTotal)*100\n",
    "            println(i, \"\\t\", new_sumOdd + new_sumEven, \"\\t\", trueError, \"%\", \"\\t\", approxError, \"%\")\n",
    "            sumTotal = new_sumTotal\n",
    "            sumOdd = new_sumOdd\n",
    "        elseif (i-1)%2 == 0\n",
    "            new_sumEven = sumEven + x^(i-1)/factorial(i-1)\n",
    "            new_sumTotal = new_sumOdd + new_sumEven\n",
    "            trueError = abs((trueValue - new_sumTotal)/trueValue)*100\n",
    "            approxError = abs((new_sumTotal - sumTotal)/new_sumTotal)*100\n",
    "            println(i, \"\\t\", new_sumOdd + new_sumEven, \"\\t\", trueError, \"%\", \"\\t\", approxError, \"%\")\n",
    "            sumTotal = new_sumTotal\n",
    "            sumEven = new_sumEven\n",
    "        end\n",
    "    end\n",
    "    sumTotal = sumOdd + sumEven\n",
    "end\n",
    "println(\"e^-5 = \", approach1(5))"
   ]
  },
  {
   "cell_type": "markdown",
   "metadata": {},
   "source": [
    "### Second approach"
   ]
  },
  {
   "cell_type": "code",
   "execution_count": 59,
   "metadata": {
    "scrolled": false
   },
   "outputs": [
    {
     "name": "stdout",
     "output_type": "stream",
     "text": [
      "Term #    Approximation               True Error          Relative Error\n",
      "1\tInf\t14741.31591025766%\tInf%\n",
      "2\t1.0\t2373.5526517096096%\t500.0000000000001%\n",
      "3\t0.16666666666666666\t702.23329244636%\t208.33333333333331%\n",
      "4\t0.05405405405405406\t277.32159093875407%\t112.61261261261262%\n",
      "5\t0.025423728813559324\t127.01821660049958%\t66.20762711864408%\n",
      "6\t0.015296367112810707\t62.348031835088335%\t39.83428935627789%\n",
      "7\t0.010938924339106653\t31.202006941930332%\t23.738985110908523%\n",
      "8\t0.008840321689483701\t15.389720146394248%\t13.703375634740365%\n",
      "9\t0.00777489818585709\t7.30691808307633%\t7.532414692089345%\n",
      "10\t0.007230283266789742\t3.28743851197011%\t3.8915473449759306%\n",
      "11\t0.006959452863649537\t1.3885433337545783%\t1.8728892987096952%\n",
      "12\t0.006831506312973185\t0.5482991167805822%\t0.8356622880294621%\n",
      "13\t0.006774891102970596\t0.2022935634334704%\t0.3453070194726347%\n",
      "14\t0.006751577432172176\t0.06984775094422271%\t0.13235336663935116%\n",
      "15\t0.006742653303524142\t0.022630487848758832%\t0.047206580016109514%\n",
      "16\t0.006739471829362351\t0.006901300432190683%\t0.01572810197299871%\n",
      "17\t0.006738412005050836\t0.00198694384172234%\t0.004914258946902831%\n",
      "18\t0.006738080878308424\t0.0005416367607032841%\t0.0014452992527470008%\n",
      "19\t0.006737983494283331\t0.00014016998570100605%\t0.0004014662122671457%\n",
      "20\t0.006737956443664812\t3.452137013995593e-5%\t0.00010564857908971307%\n",
      "e^-5 = 0.00673794932511709\n"
     ]
    }
   ],
   "source": [
    "n = 20 # Where n is the number of iterations\n",
    "\n",
    "function approach2(x)\n",
    "    new_sum = 0\n",
    "    sum = 0\n",
    "    trueValue = ℯ^-5\n",
    "    println(\"Term #    Approximation               True Error          Relative Error\" )\n",
    "    \n",
    "    for i in 1:n\n",
    "        new_sum = sum + x^(i-1)/factorial(i-1)\n",
    "        trueError = abs((trueValue - (1/new_sum))/trueValue)*100\n",
    "        approxError = abs(((1/new_sum) - (1/sum))/(1/new_sum))*100\n",
    "        println(i,  \"\\t\", 1/sum, \"\\t\", trueError, \"%\", \"\\t\", approxError, \"%\")\n",
    "        sum = new_sum\n",
    "    end\n",
    "    1/sum\n",
    "end\n",
    "println(\"e^-5 = \", approach2(5))"
   ]
  },
  {
   "cell_type": "markdown",
   "metadata": {},
   "source": [
    "### Conclusion\n",
    "The first approach for approximating the value for $e^{-5}$ was only accurate up to 2 significant digits and the second approach is accurate up to 6 significant digits.\n",
    "\n",
    "However, the margin of error for the first approach was positive while the margin of error for the second approach was negative. This means that approach two's approximation is higher than the true value of $e^{-5}$. Nevertheless, approach two is still the more accurate approximation of the true value."
   ]
  },
  {
   "cell_type": "markdown",
   "metadata": {},
   "source": [
    "## 1.3 Maclaurin series expansion of $cosx$"
   ]
  },
  {
   "cell_type": "code",
   "execution_count": 32,
   "metadata": {
    "scrolled": true
   },
   "outputs": [
    {
     "name": "stdout",
     "output_type": "stream",
     "text": [
      "Term #    Approximation               True Error          Relative Error\n",
      "2\t \t0\t \t100.0\t \t100.0%\n",
      "4\t \t0\t \t100.0\t \t100.0%\n",
      "6\t \t0.5\t \t2.2204460492503124e-14\t \t5.5114608076873964e-5%\n",
      "0.5013891644620811\n"
     ]
    }
   ],
   "source": [
    "function macExpansion_Cos(x, sigfigs)\n",
    "    new_sumEven = 0\n",
    "    new_sumOdd = 0\n",
    "    sumOdd = 0\n",
    "    sumEven = 0\n",
    "    trueValue = cos(x)\n",
    "    trueError = 1\n",
    "    i = 2\n",
    "    approxError = 1\n",
    "    tol = 0.5*10^(2-sigfigs)\n",
    "    \n",
    "    println(\"Term #    Approximation               True Error          Relative Error\")\n",
    "    \n",
    "    while approxError > tol\n",
    "        if i%4 == 0\n",
    "            new_sumEven = sumEven + (1^(2i-2))/factorial(2i-2)\n",
    "            trueError = abs((trueValue - sumEven)/trueValue)*100\n",
    "            approxError = abs((new_sumEven - sumEven)/new_sumEven)*100\n",
    "            println(i,  \"\\t \\t\", sumEven, \"\\t \\t\", trueError, \"\\t \\t\", approxError, \"%\" )\n",
    "            sumEven = new_sumEven\n",
    "        elseif i%4 != 0\n",
    "            new_sumOdd = sumOdd + (1^(2i-2))/factorial(2i-2)\n",
    "            trueError = abs((trueValue - sumOdd)/trueValue)*100\n",
    "            approxError = abs((new_sumOdd - sumOdd)/new_sumOdd)*100\n",
    "            println(i,  \"\\t \\t\", sumOdd, \"\\t \\t\", trueError, \"\\t \\t\", approxError, \"%\")\n",
    "            sumOdd = new_sumOdd\n",
    "        end\n",
    "        i += 2\n",
    "    end\n",
    "    sumCos = sumOdd + sumEven\n",
    "end\n",
    "println(macExpansion_Cos(pi/3, 2))"
   ]
  },
  {
   "cell_type": "code",
   "execution_count": null,
   "metadata": {},
   "outputs": [],
   "source": []
  }
 ],
 "metadata": {
  "kernelspec": {
   "display_name": "Julia 1.5.1",
   "language": "julia",
   "name": "julia-1.5"
  },
  "language_info": {
   "file_extension": ".jl",
   "mimetype": "application/julia",
   "name": "julia",
   "version": "1.5.1"
  }
 },
 "nbformat": 4,
 "nbformat_minor": 4
}
