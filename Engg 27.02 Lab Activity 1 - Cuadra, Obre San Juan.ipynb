{
 "cells": [
  {
   "cell_type": "markdown",
   "metadata": {},
   "source": [
    "# ENGG 27.02 LABORATORY ACTIVITY 1\n",
    "## Numerical Methods"
   ]
  },
  {
   "cell_type": "markdown",
   "metadata": {},
   "source": [
    "### 1) RLC Circuit\n",
    "As shown in the image below, an RLC circuit is composed of three components, mainly: a resistor (R), an an inductor (L), and a capacitor (C)."
   ]
  },
  {
   "attachments": {
    "RLC_Circuit.jpg": {
     "image/jpeg": "[encoded data removed]"
    }
   },
   "cell_type": "markdown",
   "metadata": {},
   "source": [
    "![RLC_Circuit.jpg](attachment:RLC_Circuit.jpg)"
   ]
  },
  {
   "cell_type": "markdown",
   "metadata": {},
   "source": [
    "The flow of current across each element induces a voltage drop. Kirchhoff’s second voltage law states that the algebraic sum of these voltages drops around a closed circuit is zero and is given by:"
   ]
  },
  {
   "cell_type": "markdown",
   "metadata": {},
   "source": [
    "<h1><center>$iR + L\\frac{di}{dt} + \\frac{q}{c}$</h1></center>"
   ]
  },
  {
   "cell_type": "markdown",
   "metadata": {},
   "source": [
    "where i = current, R = resistance, L = inductance, t = time, q = charge, and C = capacitance. In addition, the current is related to charge as in:"
   ]
  },
  {
   "cell_type": "markdown",
   "metadata": {},
   "source": [
    "<h1><center>$\\frac{dq}{dc} = i$</h1></center>"
   ]
  },
  {
   "cell_type": "markdown",
   "metadata": {},
   "source": [
    "### a. Solve using Eulers Method\n",
    "### b. Create a plot for $i$, $q$, and $t$\n",
    "### c. Use calculus or a symbolic math package to obtain the numerical solution\n",
    "If the initial values are $i(0)=0$ and $q(0)=1$, use Euler’s method to solve this pair of differential equations numerically from $t=0$ to $0.1 s$ using a step size of $Δt=0.01 s$. Employ the following parameters for your calculation: $R=200 Ω$, $L=5 H$, and $C=10−4 F$."
   ]
  },
  {
   "cell_type": "code",
   "execution_count": 1,
   "metadata": {},
   "outputs": [
    {
     "name": "stderr",
     "output_type": "stream",
     "text": [
      "\u001b[32m\u001b[1m    Updating\u001b[22m\u001b[39m registry at `C:\\Users\\Rodolfo Obre\\.julia\\registries\\General`\n",
      "\u001b[32m\u001b[1m    Updating\u001b[22m\u001b[39m git-repo `https://github.com/JuliaRegistries/General.git`\n",
      "\u001b[32m\u001b[1m   Resolving\u001b[22m\u001b[39m package versions...\n",
      "\u001b[32m\u001b[1m   Installed\u001b[22m\u001b[39m PyPlot ─ v2.9.0\n",
      "\u001b[32m\u001b[1m   Installed\u001b[22m\u001b[39m PyCall ─ v1.92.3\n",
      "\u001b[32m\u001b[1m    Updating\u001b[22m\u001b[39m `C:\\Users\\Rodolfo Obre\\.julia\\environments\\v1.6\\Project.toml`\n",
      " \u001b[90m [d330b81b] \u001b[39m\u001b[92m+ PyPlot v2.9.0\u001b[39m\n",
      "\u001b[32m\u001b[1m    Updating\u001b[22m\u001b[39m `C:\\Users\\Rodolfo Obre\\.julia\\environments\\v1.6\\Manifest.toml`\n",
      " \u001b[90m [438e738f] \u001b[39m\u001b[92m+ PyCall v1.92.3\u001b[39m\n",
      " \u001b[90m [d330b81b] \u001b[39m\u001b[92m+ PyPlot v2.9.0\u001b[39m\n",
      "\u001b[32m\u001b[1m    Building\u001b[22m\u001b[39m PyCall → `C:\\Users\\Rodolfo Obre\\.julia\\scratchspaces\\44cfe95a-1eb2-52ea-b672-e2afdf69b78f\\169bb8ea6b1b143c5cf57df6d34d022a7b60c6db\\build.log`\n",
      "\u001b[32m\u001b[1mPrecompiling\u001b[22m\u001b[39m project...\n",
      "\u001b[32m  ✓ \u001b[39m\u001b[90mPyCall\u001b[39m\n",
      "\u001b[32m  ✓ \u001b[39mPyPlot\n",
      "2 dependencies successfully precompiled in 22 seconds (217 already precompiled)\n"
     ]
    }
   ],
   "source": [
    "using Pkg\n",
    "Pkg.add(\"PyPlot\")"
   ]
  },
  {
   "cell_type": "code",
   "execution_count": 2,
   "metadata": {},
   "outputs": [
    {
     "data": {
      "text/plain": [
       "eulers_method (generic function with 1 method)"
      ]
     },
     "execution_count": 2,
     "metadata": {},
     "output_type": "execute_result"
    }
   ],
   "source": [
    "function eulers_method(h, r, l, c, t0, tf, i0, q0)\n",
    "#= Print out the time, current, and charge from the inputs step size, resistance, inductance, conductance,\n",
    "    initial time, final time, initial current, and initial charge value. Calls the graph function after. =#\n",
    "    terms = Int(((tf+ 0.01)-t0)/h) #computes for the number of terms and transforms it into an integer\n",
    "    charge = ([Float64(q0)]); current = ([Float64(i0)]) #converts q0 and i0 into float for solving later\n",
    "    for i = 1:terms\n",
    "        push!(charge, (charge[i]+current[i]*h)) #eulers, appends next term into charge array\n",
    "        push!(current, (current[i]-((current[i]*(r/l) + ((charge[i]/c)/l))*h)))    \n",
    "        println(round(((i/100)-0.01), sigdigits=2), \"            \", charge[i], \"                      \",\n",
    "            current[i])\n",
    "        i += 1\n",
    "    end\n",
    "    graph_rlc(terms, charge, current)\n",
    "end"
   ]
  },
  {
   "cell_type": "code",
   "execution_count": 3,
   "metadata": {},
   "outputs": [
    {
     "data": {
      "text/plain": [
       "calculus_method (generic function with 1 method)"
      ]
     },
     "execution_count": 3,
     "metadata": {},
     "output_type": "execute_result"
    }
   ],
   "source": [
    "function calculus_method(h, t0, tf)\n",
    "#= Calculus is used to solve for the solutions for charge and current using the inputs of step size,\n",
    "    initial time, and final time. Calls the graph function after. =#\n",
    "    charge = [1.0]; current = [0.0] #arrays that will hold our values\n",
    "    println(0.0, \"           \", charge[1], \"       \", current[1])\n",
    "    terms = Int((tf-t0)/h) #computes for the number of terms and transforms it into an integer\n",
    "    for i = 2:terms + 1\n",
    "        t = (i-1)/100 #this becomes 0.0, 0.01, 0.02, 0.03, 0.04\n",
    "        push!(current, -20*exp(-20t)*(cos(40t) + .5*sin(40t)) + (exp(-20t))*(-40*sin(40t) + 20*cos(40t)))\n",
    "        push!(charge, exp(-20t)*(cos(40t) + .5*sin(40t))) #formula solved by master of math jg manlapaz     \n",
    "        println(t, \"           \", charge[i], \"       \", current[i])\n",
    "        i += 1\n",
    "    end \n",
    "    graph_rlc(terms, charge, current)\n",
    "end\n",
    "#credit kay master jg"
   ]
  },
  {
   "cell_type": "code",
   "execution_count": null,
   "metadata": {},
   "outputs": [
    {
     "name": "stderr",
     "output_type": "stream",
     "text": [
      "┌ Info: Installing matplotlib via the Conda matplotlib package...\n",
      "└ @ PyCall C:\\Users\\Rodolfo Obre\\.julia\\packages\\PyCall\\BD546\\src\\PyCall.jl:711\n",
      "┌ Info: Running `conda install -y matplotlib` in root environment\n",
      "└ @ Conda C:\\Users\\Rodolfo Obre\\.julia\\packages\\Conda\\sNGum\\src\\Conda.jl:128\n"
     ]
    },
    {
     "name": "stdout",
     "output_type": "stream",
     "text": [
      "Collecting package metadata (current_repodata.json): ...working... "
     ]
    }
   ],
   "source": [
    "using Plots; pyplot()\n",
    "function graph_rlc(terms, fx1, fx2)\n",
    "#= Graphs the values of the two functions by the time. Takes in an input of the two functions to be \n",
    "    graphed. =#\n",
    "    println(\"\\n Graphing the charge and current against time\")\n",
    "    t = 0:terms #x-axis: 0.0, 0.01, 0.02, 0.03 ...\n",
    "    plot(t/100, fx1, linewidth=2, label=\"charge\", legend=:bottomright)\n",
    "    plot!(t/100, fx2, linewidth=2, color=\"red\", label=\"current\") \n",
    "    xlims!(0.0,0.1)\n",
    "    xlabel!(\"time (s)\")\n",
    "    ylabel!(\"charge (C) and current (A)\")\n",
    "end"
   ]
  },
  {
   "cell_type": "code",
   "execution_count": null,
   "metadata": {},
   "outputs": [],
   "source": [
    "println(\"Use Euler’s method to solve this pair of differential equations numerically from t=0 to 0.1 s using a step size of Δt=0.01 s. Employ the following parameters for your calculation: R=200 Ω, L=5 H, and C=10−4 F.\\n\")\n",
    "println(\"Time(s)       Charge(C)                 Current(A)\")\n",
    "\n",
    "eulers_method(0.01, 200, 5, 10^-4, 0.0, 0.1, 0 ,1)"
   ]
  },
  {
   "cell_type": "code",
   "execution_count": null,
   "metadata": {},
   "outputs": [],
   "source": [
    "println(\"Use Calculus to solve this pair of differential equations numerically from t=0 to 0.1 s using a step size of Δt=0.01 s. Employ the following parameters for your calculation: R=200 Ω, L=5 H, and C=10−4 F.\\n\")\n",
    "println(\"Time(s)       Charge(C)                Current(A)\")\n",
    "\n",
    "calculus_method(0.01, 0, 0.1)"
   ]
  },
  {
   "cell_type": "markdown",
   "metadata": {},
   "source": [
    "### 2. Evaluate exponential function $e^{-5}$"
   ]
  },
  {
   "cell_type": "markdown",
   "metadata": {},
   "source": [
    "Evaluate the function $e^{-5}$ using two approaches. <br>\n",
    "Given: <br>\n",
    "$e^-5 = 1 - x + \\frac{x^2}{2} - \\frac{x^3}{3!} + ...$ <br>\n",
    "and <br>\n",
    "$e^-5 = \\frac{1}{e^5} = \\frac{1}{1 - x + \\frac{x^2}{2} - \\frac{x^3}{3!} + ...}$ <br>\n",
    "<br>\n",
    "Evaluate each series using 20 terms and compute for their true precent relative and approxiamte relative errors as terms are added. Compare the approximated value to the true value of $6.737947x10^{-3}$ Explain the reason if there are discrepancies in the errors."
   ]
  },
  {
   "cell_type": "markdown",
   "metadata": {},
   "source": [
    "#### First Approach"
   ]
  },
  {
   "cell_type": "code",
   "execution_count": null,
   "metadata": {},
   "outputs": [],
   "source": [
    "n = 20 # Where n is the number of iterations\n",
    "\n",
    "function approach1(x)\n",
    "    new_sumOdd = 0 # new odd term\n",
    "    new_sumEven = 0 # new even term\n",
    "    sumOdd = 0 # current odd term\n",
    "    sumEven = 0 # current even term\n",
    "    sumTotal = 0 # sum of the entire series\n",
    "    trueValue = ℯ^(-5) \n",
    "    \n",
    "    println(\"Term #    Approximation               True Error          Relative Error\" )\n",
    "    \n",
    "    for i in 1:n\n",
    "        if (i-1)%2 != 0\n",
    "            new_sumOdd = sumOdd - x^(i-1)/factorial(i-1)\n",
    "            new_sumTotal = new_sumOdd + new_sumEven\n",
    "            trueError = abs((trueValue - new_sumTotal)/trueValue)*100\n",
    "            approxError = abs((new_sumTotal - sumTotal)/new_sumTotal)*100\n",
    "            println(i, \"\\t\", new_sumOdd + new_sumEven, \"\\t\", trueError, \"%\", \"\\t\", approxError, \"%\")\n",
    "            sumTotal = new_sumTotal\n",
    "            sumOdd = new_sumOdd\n",
    "        elseif (i-1)%2 == 0\n",
    "            new_sumEven = sumEven + x^(i-1)/factorial(i-1)\n",
    "            new_sumTotal = new_sumOdd + new_sumEven\n",
    "            trueError = abs((trueValue - new_sumTotal)/trueValue)*100\n",
    "            approxError = abs((new_sumTotal - sumTotal)/new_sumTotal)*100\n",
    "            println(i, \"\\t\", new_sumOdd + new_sumEven, \"\\t\", trueError, \"%\", \"\\t\", approxError, \"%\")\n",
    "            sumTotal = new_sumTotal\n",
    "            sumEven = new_sumEven\n",
    "        end\n",
    "    end\n",
    "    sumTotal = sumOdd + sumEven\n",
    "end\n",
    "println(\"e^-5 = \", approach1(5))"
   ]
  },
  {
   "cell_type": "markdown",
   "metadata": {},
   "source": [
    "#### Second Approach"
   ]
  },
  {
   "cell_type": "code",
   "execution_count": null,
   "metadata": {},
   "outputs": [],
   "source": [
    "n = 20 # Where n is the number of iterations\n",
    "\n",
    "function approach2(x)\n",
    "    new_sum = 0\n",
    "    sum = 0\n",
    "    trueValue = ℯ^-5\n",
    "    println(\"Term #    Approximation               True Error          Relative Error\" )\n",
    "    \n",
    "    for i in 1:n\n",
    "        new_sum = sum + x^(i-1)/factorial(i-1)\n",
    "        trueError = abs((trueValue - (1/new_sum))/trueValue)*100\n",
    "        approxError = abs(((1/new_sum) - (1/sum))/(1/new_sum))*100\n",
    "        println(i,  \"\\t\", 1/sum, \"\\t\", trueError, \"%\", \"\\t\", approxError, \"%\")\n",
    "        sum = new_sum\n",
    "    end\n",
    "    1/sum\n",
    "end\n",
    "println(\"e^-5 = \", approach2(5))"
   ]
  },
  {
   "cell_type": "markdown",
   "metadata": {},
   "source": [
    "#### Conclusion\n",
    "By definition, the numerical error, or the discrepancy between the true value and the approximation, for the first approach is $0.000031605944869897$, while for the second approach it is $-0.000000002326031623$‬.The second approach is closer to the true value of e^-5. <br>\n",
    "    \n",
    "The approximation of the first approach is accurate up to <b>five (5) significant figures</b>, while the approximation of the second approach is accurate up to <b>nine (9) significant figures</b>. The approximation of the second approach is more accurate than the approximation of the first approach. <br>\n",
    "    \n",
    "The true percent relative error of the first approach is $0.4690738124563327%$, while the true percent relative error of the second approach is $0.00003452137013995593%$. The second approach has a significantly lower true percent relative error. <br>\n",
    "    \n",
    "The approximate error of the first approach is $2.3380286316698853%$, while the approximate error of the second approach is $0.000010564857908971307%$. The approximate error of the second approach is significantly lower than the approximate error of the first approach. <br>\n",
    "    \n",
    "Overall, the second approach is more accurate and precise than the first approach based on the acquired dataset. <br>\n",
    "\n",
    "The discrepancies between the values are due to the fact that, in the first approach, its formula considers both positive and negative values. The negative values are eliminated in the formula of the second approach, and thus this is able to provide a more accurate and precise approximation."
   ]
  },
  {
   "cell_type": "markdown",
   "metadata": {},
   "source": [
    "### 3. Evaluate the Maclaurin Series Expansion of $cos(x)$"
   ]
  },
  {
   "cell_type": "markdown",
   "metadata": {},
   "source": [
    "Given: <br>\n",
    "$cos (x) = 1 - \\frac{x^2}{2} + \\frac{x^4}{4!} + \\frac{x^6}{6!} + \\frac{x^8}{8!} + ...$ <br>\n",
    "Starting with the simplest version, $cos x = 1$, add terms one at a time to estimate $cos (\\frac{\\pi}{3})$. <br>\n",
    "\n",
    "After each new term is added, compute the true and approximate percent relative errors. Use Julia to determine the true value. <br>\n",
    "\n",
    "Add terms until the absolute value of the approximate error estimate falls below an error criterion conforming to two significant figures. Explain the reason if there are discrepancies in the errors."
   ]
  },
  {
   "cell_type": "code",
   "execution_count": null,
   "metadata": {},
   "outputs": [],
   "source": [
    "function maclaurin_cos_expansion(x, sigfigs)\n",
    "#= Print out the term number, term, and then compute the true and approximate relative errors by comparing \n",
    "    it to the true value. Takes an input of x of cos(x). Call graph function after. =#\n",
    "    true_value = cos(x); true_error = 1; i = 2; approximate_error = 1\n",
    "    approximation = ([0.0, 1.0]) #array that will hold the approximations\n",
    "    specified_tolerance = 0.5*10^(2-sigfigs) #stopping criterion\n",
    "    println(\"Term #    Approximation               True Error          Relative Error\")\n",
    "    while approximate_error > specified_tolerance \n",
    "        true_error = abs((true_value - approximation[i])/true_value)*100\n",
    "        approximate_error = abs((approximation[i]-approximation[i-1])/approximation[i])*100\n",
    "        println(i-1, \"          \", approximation[i], \"       \", true_error, \"%      \", approximate_error,\"%\") \n",
    "        push!(approximation, (approximation[i]+((((-1)^(i-1))*(x^2(i-1)))/(factorial(big(2*(i-1)))))))\n",
    "        i += 1\n",
    "    end\n",
    "    graph_against_true_value(i, approximation, true_value)\n",
    "end"
   ]
  },
  {
   "cell_type": "code",
   "execution_count": null,
   "metadata": {},
   "outputs": [],
   "source": [
    "using Plots; pyplot()\n",
    "function graph_against_true_value(terms, fx, true_value)\n",
    "#= Graphs the approximations by the number of terms and superimposes the true value. Takes\n",
    "    in the number of terms, the array to be approximated, and the true value to be superimposed as a\n",
    "    horizontal line. =#\n",
    "    println(\"\\n Graphing the approximations against the true value\")\n",
    "    t = 1:terms #x-axis \n",
    "    true_plot = []\n",
    "    plot(t, fx, linewidth=2, label=\"numerical approximation\", markershape = :circle)\n",
    "    for i = 0:terms #make an array with a size of terms full of true value to plot a horizontal line\n",
    "        push!(true_plot, true_value)\n",
    "    end\n",
    "    plot!(t, true_plot, linewidth=2, color=\"red\", label=\"true value\") #plot str8 line of true value\n",
    "    xlabel!(\"terms\")\n",
    "    ylabel!(\"approximation\")\n",
    "end"
   ]
  },
  {
   "cell_type": "code",
   "execution_count": null,
   "metadata": {},
   "outputs": [],
   "source": [
    "println(\"Estimating value of cos(pi/3) using Mclaurin Series Expansion\")\n",
    "println(\"True value of cos(pi/3) = \", cos((pi)/3) ,\"\\n\")\n",
    "\n",
    "maclaurin_cos_expansion((pi)/3, 2)"
   ]
  },
  {
   "cell_type": "markdown",
   "metadata": {},
   "source": [
    "#### Conclusion\n",
    "The numerical error, or the discrepancy between the true value and the approximation, is $0.0000354346710874$. <br>\n",
    "\n",
    "This value could have been mitigated better with more iterations and terms, which was not possible due to the specified percent tolerance of $0.5\\%$, maintaining the stopping criteria of an accuracy within 2 significant figures, which is evident in the comparison between the true value and the approximation."
   ]
  },
  {
   "cell_type": "markdown",
   "metadata": {},
   "source": [
    "### References\n",
    "1. Juan Glicerio C. Manlapaz - for the 1.c. Calculus Method formula"
   ]
  }
 ],
 "metadata": {
  "kernelspec": {
   "display_name": "Julia 1.6.0",
   "language": "julia",
   "name": "julia-1.6"
  },
  "language_info": {
   "file_extension": ".jl",
   "mimetype": "application/julia",
   "name": "julia",
   "version": "1.6.0"
  }
 },
 "nbformat": 4,
 "nbformat_minor": 4
}
