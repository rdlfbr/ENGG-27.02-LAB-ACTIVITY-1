{
 "cells": [
  {
   "cell_type": "markdown",
   "metadata": {},
   "source": [
    "### 1.) RLC Circuit\n",
    "    a. If the initial values are i(0)=0 and q(0)=1, use Euler’s method to solve this pair of differential equations numerically from t=0 to 0.1 s using a step size of Δt=0.01 s. Employ the following parameters for your calculation: R=200 Ω, L=5 H, and C=10−4\n",
    "    b. Develop a plot of i and q versus t.\n",
    "    c. Use calculus or a symbolic math package to obtain the analytic solution. Compare it with the numerical solution.\n",
    "As depicted in the figure below, an RLC circuit consists of three elements: a resistor (R), an inductor (L), and a capacitor (C). The flow of current across each element induces a voltage drop. Kirchhoff’s second voltage law states that the algebraic sum of these voltages drops around a closed circuit is zero,\n",
    "iR+Ldidt+qC\n",
    "where i = current, R = resistance, L = inductance, t = time, q = charge, and C = capacitance. In addition, the current is related to charge as in"
   ]
  },
  {
   "cell_type": "code",
   "execution_count": 1,
   "metadata": {},
   "outputs": [
    {
     "data": {
      "text/plain": [
       "eulers_method (generic function with 1 method)"
      ]
     },
     "execution_count": 1,
     "metadata": {},
     "output_type": "execute_result"
    }
   ],
   "source": [
    "function eulers_method(h, r, l, c, t0, tf, i0, q0)\n",
    "#= Print out the current and charge from the inputs step size, resistance, inductance, conductance, initial time,\n",
    "final time, initial current, and initial charge value =#\n",
    "    terms = floor(Int, tf-t0/h) + 1\n",
    "    charge = zeros(11); charge[1] = q0\n",
    "    current = zeros(11); current[1] = i0\n",
    "    println(1, \"           \", charge[1], \"                   \", current[1])\n",
    "    i = 2\n",
    "    while i < 11\n",
    "        charge[i] = charge[i-1] + (current[i-1])*h\n",
    "        current[i] = current[i-1] - ((current[i-1]*r + charge[i-1]/c)/l)*h\n",
    "        println(i, \"           \", charge[i], \"                   \", current[i])\n",
    "        i += 1\n",
    "    end\n",
    "    graph1(11, charge, current)\n",
    "end"
   ]
  },
  {
   "cell_type": "code",
   "execution_count": 2,
   "metadata": {},
   "outputs": [
    {
     "data": {
      "text/plain": [
       "graph1 (generic function with 1 method)"
      ]
     },
     "execution_count": 2,
     "metadata": {},
     "output_type": "execute_result"
    }
   ],
   "source": [
    "using Plots; pyplot()\n",
    "function graph1(terms, fx1, fx2)\n",
    "#= Graphs the approximations/terms by the number of terms and superimposes the true value=#\n",
    "    println(\"\\n Graphing the approximations against the true value\")\n",
    "    t = 1:terms #y-axis \n",
    "    true_plot = []\n",
    "    plot(t, fx1, linewidth=2, label=\"charge\", markershape = :circle)\n",
    "    plot!(t, fx2, linewidth=2, color=\"red\", label=\"current\") \n",
    "    xlims!(0,terms)\n",
    "    ylims!(-35, 35)\n",
    "    xlabel!(\"terms\")\n",
    "    ylabel!(\"hmm?\")\n",
    "end"
   ]
  },
  {
   "cell_type": "code",
   "execution_count": null,
   "metadata": {
    "scrolled": true
   },
   "outputs": [
    {
     "name": "stdout",
     "output_type": "stream",
     "text": [
      "Use Euler’s method to solve this pair of differential equations numerically from t=0 to 0.1 s using a step size of Δt=0.01 s. Employ the following parameters for your calculation: R=200 Ω, L=5 H, and C=10−4 F.\n",
      "\n",
      "Term       Charge                  Current\n",
      "1           1.0                   0.0\n",
      "2           1.0                   -19.999999999999996\n",
      "3           0.8                   -31.999999999999993\n",
      "4           0.4800000000000001                   -35.199999999999996\n",
      "5           0.1280000000000001                   -30.72\n",
      "6           -0.17919999999999986                   -20.992\n",
      "7           -0.3891199999999999                   -9.011200000000004\n",
      "8           -0.47923199999999994                   2.3756799999999956\n",
      "9           -0.45547519999999997                   11.010047999999994\n",
      "10           -0.34537472                   15.715532799999995\n",
      "\n",
      " Graphing the approximations against the true value\n"
     ]
    }
   ],
   "source": [
    "println(\"Use Euler’s method to solve this pair of differential equations numerically from t=0 to 0.1 s using a step size of Δt=0.01 s. Employ the following parameters for your calculation: R=200 Ω, L=5 H, and C=10−4 F.\\n\")\n",
    "println(\"Term       Charge                  Current\")\n",
    "eulers_method(0.01, 200, 5, 10^-4, 0, 0.1, 0 ,1)"
   ]
  },
  {
   "cell_type": "markdown",
   "metadata": {},
   "source": [
    "### 2.) Evaluate exponential function (e^-5)\n",
    "    a. e−x=1−x+x22−x33!+⋯ (di ko pa naaayos formatting di ako masyado marunong maglatex so search ko pa pano maya hehe)\n",
    "    b. e−x=1ex=11+x+x22+x33!+⋯\n",
    "Evaluate e−5 using two approaches and compare with the true value of 6.737947×10−3. Use 20 terms to evaluate each series and compute true and approximate relative errors as terms are added. Explain the reason if there are discrepancies in the errors."
   ]
  },
  {
   "cell_type": "code",
   "execution_count": null,
   "metadata": {},
   "outputs": [],
   "source": [
    "function approach1(x, terms)\n",
    "#= Print out the term number, term, and then compute the true and approximate relative errors by comparing \n",
    "it to the true value using=#\n",
    "    true_value = exp(x) \n",
    "    e = ([1.0]) #array that will hold the terms, idk if there is an easier way\n",
    "    println(\"Term #    Approximation               True Error          Relative Error\")\n",
    "    for i = 1:terms\n",
    "        true_error = abs(true_value - e[i])\n",
    "        relative_error = abs((true_error/true_value)*(100))\n",
    "        println(i, \"          \", e[i], \"       \", true_error, \"      \", relative_error,\"%\") #i wish i knew how to print it nicely\n",
    "        push!(e, (e[i]+(x^i/factorial(i)))) #append new term to array for plotting later\n",
    "        i += 1\n",
    "    end\n",
    "    graph(terms, e, true_value, 13, -13) #call graph function after idk\n",
    "end"
   ]
  },
  {
   "cell_type": "code",
   "execution_count": null,
   "metadata": {},
   "outputs": [],
   "source": [
    "using Plots; pyplot()\n",
    "function graph(terms, fx, true_value, upper_ylim, lower_ylim)\n",
    "#= Graphs the approximations/terms by the number of terms and superimposes the true value =#\n",
    "    println(\"\\n Graphing the approximations against the true value\")\n",
    "    t = 1:terms #y-axis \n",
    "    true_plot = []\n",
    "    plot(t, fx, linewidth=2, label=\"numerical approximation\", markershape = :circle)\n",
    "    for i = 0:terms-1 #make an array with a size of terms full of true value because idk how to plot a str8 line\n",
    "        push!(true_plot, true_value)\n",
    "    end\n",
    "    plot!(t, true_plot, linewidth=2, color=\"red\", label=\"true value\") #plot str8 line of true value\n",
    "    xlims!(0,terms)\n",
    "    ylims!(lower_ylim,upper_ylim)\n",
    "    xlabel!(\"terms\")\n",
    "    ylabel!(\"hmm?\")\n",
    "end"
   ]
  },
  {
   "cell_type": "code",
   "execution_count": null,
   "metadata": {},
   "outputs": [],
   "source": [
    "function approach2(x, terms)\n",
    "#= Print out the term number, term, and then compute the true and approximate relative errors by comparing \n",
    "it to the true value =#\n",
    "    true_value = exp(x) \n",
    "    x = abs(x) #difference between approach 1 and 2\n",
    "    e = ([1.0]) #array that will hold the terms, this is e^x\n",
    "    e_1 = [(1.0)] #idk omg a separate array for plotting, this is 1/e^x\n",
    "    println(\"Term #    Approximation               True Error          Relative Error\")\n",
    "    for i = 1:terms\n",
    "        true_error = abs(true_value - 1/e[i])\n",
    "        relative_error = abs((true_error/true_value)*(100))\n",
    "        println(i, \"          \", 1/e[i], \"       \", true_error, \"      \", relative_error,\"%\") #i wish i knew how to print it nicely\n",
    "        push!(e, (e[i]+(x^i/factorial(i)))) #append new term to array for plotting later\n",
    "        push!(e_1, 1/e[i])\n",
    "        i += 1\n",
    "    end\n",
    "    \n",
    "    graph(terms, e_1, true_value, 1, -0.1) #call graph function after \n",
    "end"
   ]
  },
  {
   "cell_type": "code",
   "execution_count": null,
   "metadata": {},
   "outputs": [],
   "source": [
    "println(\"Estimating value of e^-5 using approach 1 (e^-x = 1 + x + x^2/2 + x^3/3! + ...)\")\n",
    "println(\"True value of e^-5 = \", exp(-5),\"\\n\")\n",
    "\n",
    "approach1(-5,20)"
   ]
  },
  {
   "cell_type": "code",
   "execution_count": null,
   "metadata": {},
   "outputs": [],
   "source": [
    "println(\"Estimating value of e^-5 using approach 2 (e^-x = 1/e^x =  1 / 1 + x + x^2/2 + x^3/3! + ...)\")\n",
    "println(\"True value of e^-5 = \", exp(-5),\"\\n\")\n",
    "\n",
    "approach2(-5,20)"
   ]
  },
  {
   "cell_type": "markdown",
   "metadata": {},
   "source": [
    "### 3.) Evaluate MacLaurin series expansion for cos function (cos(pi/3))\n",
    "##### MacLaurin series is given by:\n",
    "\\$cosx=1−x22+x44!−x66!+x88!−⋯\\$\n",
    "\n",
    "Starting with the simplest version, cosx=1, add terms one at a time to estimate cos(π3) . After each new term is added, compute the true and approximate percent relative errors. Use Julia to determine the true value. Add terms until the absolute value of the approximate error estimate falls below an error criterion conforming to two significant figures. Explain the reason if there are discrepancies in the errors."
   ]
  },
  {
   "cell_type": "code",
   "execution_count": null,
   "metadata": {},
   "outputs": [],
   "source": [
    "function maclaurin_cos_expansion(x, terms)\n",
    "#= Print out the term number, term, and then compute the true and approximate relative errors by comparing \n",
    "it to the true value =#\n",
    "    true_value = cos(x) \n",
    "    e = ([1.0]) #array that will hold the terms, idk if there is an easier way\n",
    "    println(\"Term #    Approximation               True Error          Relative Error\")\n",
    "    for i = 1:terms\n",
    "        true_error = abs(true_value - e[i])\n",
    "        relative_error = abs((true_error/true_value)*(100))\n",
    "        println(i, \"          \", e[i], \"       \", true_error, \"      \", relative_error,\"%\") #i wish i knew how to print it nicely\n",
    "        push!(e, (e[i]+((((-1)^i)*(x^2i))/(2*factorial(i))))) #append new term to array for plotting later\n",
    "        i += 1\n",
    "    end\n",
    "    graph(terms, e, true_value, 1, 0.4) #call graph function after idk\n",
    "end"
   ]
  },
  {
   "cell_type": "code",
   "execution_count": null,
   "metadata": {},
   "outputs": [],
   "source": [
    "println(\"Estimating value of cos(pi/3) using Mclaurin Series Expansion\")\n",
    "println(\"True value of cos(pi/3) = \", cos((pi)/3) ,\"\\n\")\n",
    "maclaurin_cos_expansion((pi)/3, 20)\n",
    "#=ayt mukhang may mali sa formula ko cuz i cant get 0.5 hahu i will revisit later, also max of 21 terms\n",
    "as of now alamin ko rin papaano iincrease since need ng 2 sigfig approximate error=#"
   ]
  }
 ],
 "metadata": {
  "kernelspec": {
   "display_name": "Julia 1.6.0",
   "language": "julia",
   "name": "julia-1.6"
  },
  "language_info": {
   "file_extension": ".jl",
   "mimetype": "application/julia",
   "name": "julia",
   "version": "1.6.0"
  }
 },
 "nbformat": 4,
 "nbformat_minor": 4
}
