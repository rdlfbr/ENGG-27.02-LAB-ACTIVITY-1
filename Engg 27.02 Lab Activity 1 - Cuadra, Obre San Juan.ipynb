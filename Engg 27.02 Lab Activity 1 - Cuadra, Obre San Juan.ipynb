{
 "cells": [
  {
   "cell_type": "markdown",
   "metadata": {},
   "source": [
    "# ENGG 27.02 LABORATORY ACTIVITY 1\n",
    "## Numerical Methods"
   ]
  },
  {
   "cell_type": "markdown",
   "metadata": {},
   "source": [
    "### 1) RLC Circuit\n",
    "As shown in the image below, an RLC circuit is composed of three components, mainly: a resistor (R), an an inductor (L), and a capacitor (C)."
   ]
  },
  {
   "attachments": {
    "RLC_Circuit.jpg": {
     "image/jpeg": "[encoded data removed]"
    }
   },
   "cell_type": "markdown",
   "metadata": {},
   "source": [
    "![RLC_Circuit.jpg](attachment:RLC_Circuit.jpg)"
   ]
  },
  {
   "cell_type": "markdown",
   "metadata": {},
   "source": [
    "The flow of current across each element induces a voltage drop. Kirchhoff’s second voltage law states that the algebraic sum of these voltages drops around a closed circuit is zero and is given by:"
   ]
  },
  {
   "cell_type": "markdown",
   "metadata": {},
   "source": [
    "<h1><center>$iR + L\\frac{di}{dt} + \\frac{q}{c}$</h1></center>"
   ]
  },
  {
   "cell_type": "markdown",
   "metadata": {},
   "source": [
    "where i = current, R = resistance, L = inductance, t = time, q = charge, and C = capacitance. In addition, the current is related to charge as in:"
   ]
  },
  {
   "cell_type": "markdown",
   "metadata": {},
   "source": [
    "<h1><center>$\\frac{dq}{dc} = i$</h1></center>"
   ]
  },
  {
   "cell_type": "markdown",
   "metadata": {},
   "source": [
    "### a. Solve using Eulers Method\n",
    "### b. Create a plot for $i$, $q$, and $t$\n",
    "### c. Use calculus or a symbolic math package to obtain the numerical solution\n",
    "If the initial values are $i(0)=0$ and $q(0)=1$, use Euler’s method to solve this pair of differential equations numerically from $t=0$ to $0.1 s$ using a step size of $Δt=0.01 s$. Employ the following parameters for your calculation: $R=200 Ω$, $L=5 H$, and $C=10−4 F$."
   ]
  },
  {
   "cell_type": "code",
   "execution_count": 7,
   "metadata": {},
   "outputs": [
    {
     "ename": "LoadError",
     "evalue": "The following package names could not be resolved:\n * PyPlots (not found in project, manifest or registry)\n",
     "output_type": "error",
     "traceback": [
      "The following package names could not be resolved:\n * PyPlots (not found in project, manifest or registry)\n",
      "",
      "Stacktrace:",
      "  [1] pkgerror(msg::String)",
      "    @ Pkg.Types C:\\buildbot\\worker\\package_win64\\build\\usr\\share\\julia\\stdlib\\v1.6\\Pkg\\src\\Types.jl:55",
      "  [2] ensure_resolved(ctx::Pkg.Types.Context, pkgs::Vector{Pkg.Types.PackageSpec}; registry::Bool)",
      "    @ Pkg.Types C:\\buildbot\\worker\\package_win64\\build\\usr\\share\\julia\\stdlib\\v1.6\\Pkg\\src\\Types.jl:862",
      "  [3] add(ctx::Pkg.Types.Context, pkgs::Vector{Pkg.Types.PackageSpec}; preserve::Pkg.Types.PreserveLevel, platform::Base.BinaryPlatforms.Platform, kwargs::Base.Iterators.Pairs{Union{}, Union{}, Tuple{}, NamedTuple{(), Tuple{}}})",
      "    @ Pkg.API C:\\buildbot\\worker\\package_win64\\build\\usr\\share\\julia\\stdlib\\v1.6\\Pkg\\src\\API.jl:186",
      "  [4] add",
      "    @ C:\\buildbot\\worker\\package_win64\\build\\usr\\share\\julia\\stdlib\\v1.6\\Pkg\\src\\API.jl:148 [inlined]",
      "  [5] add(pkgs::Vector{Pkg.Types.PackageSpec}; kwargs::Base.Iterators.Pairs{Union{}, Union{}, Tuple{}, NamedTuple{(), Tuple{}}})",
      "    @ Pkg.API C:\\buildbot\\worker\\package_win64\\build\\usr\\share\\julia\\stdlib\\v1.6\\Pkg\\src\\API.jl:73",
      "  [6] add",
      "    @ C:\\buildbot\\worker\\package_win64\\build\\usr\\share\\julia\\stdlib\\v1.6\\Pkg\\src\\API.jl:72 [inlined]",
      "  [7] #add#21",
      "    @ C:\\buildbot\\worker\\package_win64\\build\\usr\\share\\julia\\stdlib\\v1.6\\Pkg\\src\\API.jl:70 [inlined]",
      "  [8] add",
      "    @ C:\\buildbot\\worker\\package_win64\\build\\usr\\share\\julia\\stdlib\\v1.6\\Pkg\\src\\API.jl:70 [inlined]",
      "  [9] #add#20",
      "    @ C:\\buildbot\\worker\\package_win64\\build\\usr\\share\\julia\\stdlib\\v1.6\\Pkg\\src\\API.jl:69 [inlined]",
      " [10] add(pkg::String)",
      "    @ Pkg.API C:\\buildbot\\worker\\package_win64\\build\\usr\\share\\julia\\stdlib\\v1.6\\Pkg\\src\\API.jl:69",
      " [11] top-level scope",
      "    @ In[7]:2",
      " [12] eval",
      "    @ .\\boot.jl:360 [inlined]",
      " [13] include_string(mapexpr::typeof(REPL.softscope), mod::Module, code::String, filename::String)",
      "    @ Base .\\loading.jl:1094"
     ]
    }
   ],
   "source": [
    "using Pkg\n",
    "Pkg.add(\"PyPlots\")"
   ]
  },
  {
   "cell_type": "code",
   "execution_count": 8,
   "metadata": {},
   "outputs": [
    {
     "data": {
      "text/plain": [
       "eulers_method (generic function with 1 method)"
      ]
     },
     "execution_count": 8,
     "metadata": {},
     "output_type": "execute_result"
    }
   ],
   "source": [
    "function eulers_method(h, r, l, c, t0, tf, i0, q0)\n",
    "#= Print out the time, current, and charge from the inputs step size, resistance, inductance, conductance,\n",
    "    initial time, final time, initial current, and initial charge value. Calls the graph function after. =#\n",
    "    terms = Int(((tf+ 0.01)-t0)/h) #computes for the number of terms and transforms it into an integer\n",
    "    charge = ([Float64(q0)]); current = ([Float64(i0)]) #converts q0 and i0 into float for solving later\n",
    "    for i = 1:terms\n",
    "        push!(charge, (charge[i]+current[i]*h)) #eulers, appends next term into charge array\n",
    "        push!(current, (current[i]-((current[i]*(r/l) + ((charge[i]/c)/l))*h)))    \n",
    "        println(round(((i/100)-0.01), sigdigits=2), \"            \", charge[i], \"                      \",\n",
    "            current[i])\n",
    "        i += 1\n",
    "    end\n",
    "    graph_rlc(terms, charge, current)\n",
    "end"
   ]
  },
  {
   "cell_type": "code",
   "execution_count": 9,
   "metadata": {},
   "outputs": [
    {
     "data": {
      "text/plain": [
       "calculus_method (generic function with 1 method)"
      ]
     },
     "execution_count": 9,
     "metadata": {},
     "output_type": "execute_result"
    }
   ],
   "source": [
    "function calculus_method(h, t0, tf)\n",
    "#= Calculus is used to solve for the solutions for charge and current using the inputs of step size,\n",
    "    initial time, and final time. Calls the graph function after. =#\n",
    "    charge = [1.0]; current = [0.0] #arrays that will hold our values\n",
    "    println(0.0, \"           \", charge[1], \"       \", current[1])\n",
    "    terms = Int((tf-t0)/h) #computes for the number of terms and transforms it into an integer\n",
    "    for i = 2:terms + 1\n",
    "        t = (i-1)/100 #this becomes 0.0, 0.01, 0.02, 0.03, 0.04\n",
    "        push!(current, -20*exp(-20t)*(cos(40t) + .5*sin(40t)) + (exp(-20t))*(-40*sin(40t) + 20*cos(40t)))\n",
    "        push!(charge, exp(-20t)*(cos(40t) + .5*sin(40t))) #formula solved by master of math jg manlapaz     \n",
    "        println(t, \"           \", charge[i], \"       \", current[i])\n",
    "        i += 1\n",
    "    end \n",
    "    graph_rlc(terms, charge, current)\n",
    "end\n",
    "#credit kay master jg"
   ]
  },
  {
   "cell_type": "code",
   "execution_count": 10,
   "metadata": {},
   "outputs": [
    {
     "ename": "LoadError",
     "evalue": "ArgumentError: Package PyPlot not found in current path:\n- Run `import Pkg; Pkg.add(\"PyPlot\")` to install the PyPlot package.\n",
     "output_type": "error",
     "traceback": [
      "ArgumentError: Package PyPlot not found in current path:\n- Run `import Pkg; Pkg.add(\"PyPlot\")` to install the PyPlot package.\n",
      "",
      "Stacktrace:",
      "  [1] require(into::Module, mod::Symbol)",
      "    @ Base .\\loading.jl:871",
      "  [2] top-level scope",
      "    @ ~\\.julia\\packages\\Plots\\kyYZF\\src\\backends.jl:505",
      "  [3] eval",
      "    @ .\\boot.jl:360 [inlined]",
      "  [4] _initialize_backend(#unused#::Plots.PyPlotBackend)",
      "    @ Plots ~\\.julia\\packages\\Plots\\kyYZF\\src\\backends.jl:504",
      "  [5] backend",
      "    @ ~\\.julia\\packages\\Plots\\kyYZF\\src\\backends.jl:174 [inlined]",
      "  [6] pyplot(; kw::Base.Iterators.Pairs{Union{}, Union{}, Tuple{}, NamedTuple{(), Tuple{}}})",
      "    @ Plots ~\\.julia\\packages\\Plots\\kyYZF\\src\\backends.jl:31",
      "  [7] pyplot()",
      "    @ Plots ~\\.julia\\packages\\Plots\\kyYZF\\src\\backends.jl:31",
      "  [8] top-level scope",
      "    @ In[10]:1",
      "  [9] eval",
      "    @ .\\boot.jl:360 [inlined]",
      " [10] include_string(mapexpr::typeof(REPL.softscope), mod::Module, code::String, filename::String)",
      "    @ Base .\\loading.jl:1094"
     ]
    }
   ],
   "source": [
    "using Plots; pyplot()\n",
    "function graph_rlc(terms, fx1, fx2)\n",
    "#= Graphs the values of the two functions by the time. Takes in an input of the two functions to be \n",
    "    graphed. =#\n",
    "    println(\"\\n Graphing the charge and current against time\")\n",
    "    t = 0:terms #x-axis: 0.0, 0.01, 0.02, 0.03 ...\n",
    "    plot(t/100, fx1, linewidth=2, label=\"charge\", legend=:bottomright)\n",
    "    plot!(t/100, fx2, linewidth=2, color=\"red\", label=\"current\") \n",
    "    xlims!(0.0,0.1)\n",
    "    xlabel!(\"time (s)\")\n",
    "    ylabel!(\"charge (C) and current (A)\")\n",
    "end"
   ]
  },
  {
   "cell_type": "code",
   "execution_count": 11,
   "metadata": {},
   "outputs": [
    {
     "name": "stdout",
     "output_type": "stream",
     "text": [
      "Use Euler’s method to solve this pair of differential equations numerically from t=0 to 0.1 s using a step size of Δt=0.01 s. Employ the following parameters for your calculation: R=200 Ω, L=5 H, and C=10−4 F.\n",
      "\n",
      "Time(s)       Charge(C)                 Current(A)\n",
      "0.0            1.0                      0.0\n",
      "0.01            1.0                      -19.999999999999996\n",
      "0.02            0.8                      -31.999999999999993\n",
      "0.03            0.4800000000000001                      -35.199999999999996\n",
      "0.04            0.1280000000000001                      -30.72\n",
      "0.05            -0.17919999999999986                      -20.992\n",
      "0.06            -0.3891199999999999                      -9.011200000000004\n",
      "0.07            -0.47923199999999994                      2.3756799999999956\n",
      "0.08            -0.45547519999999997                      11.010047999999996\n",
      "0.09            -0.34537472                      15.715532799999995\n",
      "0.1            -0.18821939200000007                      16.336814079999996\n"
     ]
    },
    {
     "ename": "LoadError",
     "evalue": "UndefVarError: graph_rlc not defined",
     "output_type": "error",
     "traceback": [
      "UndefVarError: graph_rlc not defined",
      "",
      "Stacktrace:",
      " [1] eulers_method(h::Float64, r::Int64, l::Int64, c::Float64, t0::Float64, tf::Float64, i0::Int64, q0::Int64)",
      "   @ Main .\\In[8]:13",
      " [2] top-level scope",
      "   @ In[11]:4",
      " [3] eval",
      "   @ .\\boot.jl:360 [inlined]",
      " [4] include_string(mapexpr::typeof(REPL.softscope), mod::Module, code::String, filename::String)",
      "   @ Base .\\loading.jl:1094"
     ]
    }
   ],
   "source": [
    "println(\"Use Euler’s method to solve this pair of differential equations numerically from t=0 to 0.1 s using a step size of Δt=0.01 s. Employ the following parameters for your calculation: R=200 Ω, L=5 H, and C=10−4 F.\\n\")\n",
    "println(\"Time(s)       Charge(C)                 Current(A)\")\n",
    "\n",
    "eulers_method(0.01, 200, 5, 10^-4, 0.0, 0.1, 0 ,1)"
   ]
  },
  {
   "cell_type": "code",
   "execution_count": 12,
   "metadata": {},
   "outputs": [
    {
     "name": "stdout",
     "output_type": "stream",
     "text": [
      "Use Calculus to solve this pair of differential equations numerically from t=0 to 0.1 s using a step size of Δt=0.01 s. Employ the following parameters for your calculation: R=200 Ω, L=5 H, and C=10−4 F.\n",
      "\n",
      "Time(s)       Charge(C)                Current(A)\n",
      "0.0           1.0       0.0\n",
      "0.01           0.913515347581107       -15.941438633037038\n",
      "0.02           0.707445557420788       -24.042908393785723\n",
      "0.03           0.454623099922328       -25.57569478366272\n",
      "0.04           0.21144849469842336       -22.456868580677916\n",
      "0.05           0.01416404894540483       -16.725591461963113\n",
      "0.06           -0.12037591885054927       -10.172280017090669\n",
      "0.07           -0.1910456381744146       -4.130353039243053\n",
      "0.08           -0.20744500731469034       0.5892768149474503\n",
      "0.09           -0.18480723786936654       3.657406864598134\n",
      "0.1           -0.13967208459371888       5.121104002833686\n"
     ]
    },
    {
     "ename": "LoadError",
     "evalue": "UndefVarError: graph_rlc not defined",
     "output_type": "error",
     "traceback": [
      "UndefVarError: graph_rlc not defined",
      "",
      "Stacktrace:",
      " [1] calculus_method(h::Float64, t0::Int64, tf::Float64)",
      "   @ Main .\\In[9]:14",
      " [2] top-level scope",
      "   @ In[12]:4",
      " [3] eval",
      "   @ .\\boot.jl:360 [inlined]",
      " [4] include_string(mapexpr::typeof(REPL.softscope), mod::Module, code::String, filename::String)",
      "   @ Base .\\loading.jl:1094"
     ]
    }
   ],
   "source": [
    "println(\"Use Calculus to solve this pair of differential equations numerically from t=0 to 0.1 s using a step size of Δt=0.01 s. Employ the following parameters for your calculation: R=200 Ω, L=5 H, and C=10−4 F.\\n\")\n",
    "println(\"Time(s)       Charge(C)                Current(A)\")\n",
    "\n",
    "calculus_method(0.01, 0, 0.1)"
   ]
  },
  {
   "cell_type": "markdown",
   "metadata": {},
   "source": [
    "### 2. Evaluate exponential function $e^{-5}$"
   ]
  },
  {
   "cell_type": "markdown",
   "metadata": {},
   "source": [
    "Evaluate the function $e^{-5}$ using two approaches. <br>\n",
    "Given: <br>\n",
    "$e^-5 = 1 - x + \\frac{x^2}{2} - \\frac{x^3}{3!} + ...$ <br>\n",
    "and <br>\n",
    "$e^-5 = \\frac{1}{e^5} = \\frac{1}{1 - x + \\frac{x^2}{2} - \\frac{x^3}{3!} + ...}$ <br>\n",
    "<br>\n",
    "Evaluate each series using 20 terms and compute for their true precent relative and approxiamte relative errors as terms are added. Compare the approximated value to the true value of $6.737947x10^{-3}$ Explain the reason if there are discrepancies in the errors."
   ]
  },
  {
   "cell_type": "markdown",
   "metadata": {},
   "source": [
    "#### First Approach"
   ]
  },
  {
   "cell_type": "code",
   "execution_count": 13,
   "metadata": {},
   "outputs": [
    {
     "name": "stdout",
     "output_type": "stream",
     "text": [
      "Term #    Approximation               True Error          Relative Error\n",
      "1\t1.0\t14741.31591025766%\t100.0%\n",
      "2\t-4.0\t59465.26364103064%\t125.0%\n",
      "3\t8.5\t126051.18523719013%\t147.05882352941177%\n",
      "4\t-12.333333333333332\t183142.8962265111%\t168.91891891891893%\n",
      "5\t13.70833333333334\t203349.70560311552%\t189.96960486322183%\n",
      "6\t-12.333333333333329\t183142.89622651107%\t211.14864864864873%\n",
      "7\t9.368055555555557\t138934.27196484437%\t231.65307635285387%\n",
      "8\t-6.132936507936506\t91120.84817183812%\t252.74991912002594%\n",
      "9\t3.5551835317460387\t52663.6019135885%\t272.50688897415284%\n",
      "10\t-1.8271053791887084\t27216.648133870734%\t294.5801031643096%\n",
      "11\t0.8640390762786581\t12723.47688985878%\t311.46096621670097%\n",
      "12\t-0.35920840347924354\t5431.125393654751%\t340.53977243006943%\n",
      "13\t0.1504780464198774\t2133.292224475817%\t338.71150112950556%\n",
      "14\t-0.04555520354132625\t776.0991671129113%\t430.3202153039848%\n",
      "15\t0.024456671444823996\t262.96918702601056%\t286.2690253827143%\n",
      "16\t0.0011193797827786511\t83.38693102022644%\t2084.841268449112%\n",
      "17\t0.008412283427162492\t24.849355869143537%\t86.69350845735563%\n",
      "18\t0.00626731176704709\t6.984846157178969%\t34.22474802344209%\n",
      "19\t0.006863137228194205\t1.8579877390803134%\t8.681532094381355%\n",
      "20\t0.006706341054211862\t0.4690738125113638%\t2.3380286316316794%\n",
      "e^-5 = 0.006706341054211862\n"
     ]
    }
   ],
   "source": [
    "n = 20 # Where n is the number of iterations\n",
    "\n",
    "function approach1(x)\n",
    "    new_sumOdd = 0 # new odd term\n",
    "    new_sumEven = 0 # new even term\n",
    "    sumOdd = 0 # current odd term\n",
    "    sumEven = 0 # current even term\n",
    "    sumTotal = 0 # sum of the entire series\n",
    "    trueValue = ℯ^(-5) \n",
    "    \n",
    "    println(\"Term #    Approximation               True Error          Relative Error\" )\n",
    "    \n",
    "    for i in 1:n\n",
    "        if (i-1)%2 != 0\n",
    "            new_sumOdd = sumOdd - x^(i-1)/factorial(i-1)\n",
    "            new_sumTotal = new_sumOdd + new_sumEven\n",
    "            trueError = abs((trueValue - new_sumTotal)/trueValue)*100\n",
    "            approxError = abs((new_sumTotal - sumTotal)/new_sumTotal)*100\n",
    "            println(i, \"\\t\", new_sumOdd + new_sumEven, \"\\t\", trueError, \"%\", \"\\t\", approxError, \"%\")\n",
    "            sumTotal = new_sumTotal\n",
    "            sumOdd = new_sumOdd\n",
    "        elseif (i-1)%2 == 0\n",
    "            new_sumEven = sumEven + x^(i-1)/factorial(i-1)\n",
    "            new_sumTotal = new_sumOdd + new_sumEven\n",
    "            trueError = abs((trueValue - new_sumTotal)/trueValue)*100\n",
    "            approxError = abs((new_sumTotal - sumTotal)/new_sumTotal)*100\n",
    "            println(i, \"\\t\", new_sumOdd + new_sumEven, \"\\t\", trueError, \"%\", \"\\t\", approxError, \"%\")\n",
    "            sumTotal = new_sumTotal\n",
    "            sumEven = new_sumEven\n",
    "        end\n",
    "    end\n",
    "    sumTotal = sumOdd + sumEven\n",
    "end\n",
    "println(\"e^-5 = \", approach1(5))"
   ]
  },
  {
   "cell_type": "markdown",
   "metadata": {},
   "source": [
    "#### Second Approach"
   ]
  },
  {
   "cell_type": "code",
   "execution_count": 14,
   "metadata": {},
   "outputs": [
    {
     "name": "stdout",
     "output_type": "stream",
     "text": [
      "Term #    Approximation               True Error          Relative Error\n",
      "1\tInf\t14741.31591025766%\tInf%\n",
      "2\t1.0\t2373.5526517096096%\t500.0000000000001%\n",
      "3\t0.16666666666666666\t702.23329244636%\t208.33333333333331%\n",
      "4\t0.05405405405405406\t277.32159093875407%\t112.61261261261262%\n",
      "5\t0.025423728813559324\t127.01821660049958%\t66.20762711864408%\n",
      "6\t0.015296367112810707\t62.348031835088335%\t39.83428935627789%\n",
      "7\t0.010938924339106653\t31.202006941930332%\t23.738985110908523%\n",
      "8\t0.008840321689483701\t15.389720146394248%\t13.703375634740365%\n",
      "9\t0.00777489818585709\t7.30691808307633%\t7.532414692089345%\n",
      "10\t0.007230283266789742\t3.28743851197011%\t3.8915473449759306%\n",
      "11\t0.006959452863649537\t1.3885433337545783%\t1.8728892987096952%\n",
      "12\t0.006831506312973185\t0.5482991167805822%\t0.8356622880294621%\n",
      "13\t0.006774891102970596\t0.2022935634334704%\t0.3453070194726347%\n",
      "14\t0.006751577432172176\t0.06984775094422271%\t0.13235336663935116%\n",
      "15\t0.006742653303524142\t0.022630487848758832%\t0.047206580016109514%\n",
      "16\t0.006739471829362351\t0.006901300432190683%\t0.01572810197299871%\n",
      "17\t0.006738412005050836\t0.00198694384172234%\t0.004914258946902831%\n",
      "18\t0.006738080878308424\t0.0005416367607032841%\t0.0014452992527470008%\n",
      "19\t0.006737983494283331\t0.00014016998570100605%\t0.0004014662122671457%\n",
      "20\t0.006737956443664812\t3.452137013995593e-5%\t0.00010564857908971307%\n",
      "e^-5 = 0.00673794932511709\n"
     ]
    }
   ],
   "source": [
    "n = 20 # Where n is the number of iterations\n",
    "\n",
    "function approach2(x)\n",
    "    new_sum = 0\n",
    "    sum = 0\n",
    "    trueValue = ℯ^-5\n",
    "    println(\"Term #    Approximation               True Error          Relative Error\" )\n",
    "    \n",
    "    for i in 1:n\n",
    "        new_sum = sum + x^(i-1)/factorial(i-1)\n",
    "        trueError = abs((trueValue - (1/new_sum))/trueValue)*100\n",
    "        approxError = abs(((1/new_sum) - (1/sum))/(1/new_sum))*100\n",
    "        println(i,  \"\\t\", 1/sum, \"\\t\", trueError, \"%\", \"\\t\", approxError, \"%\")\n",
    "        sum = new_sum\n",
    "    end\n",
    "    1/sum\n",
    "end\n",
    "println(\"e^-5 = \", approach2(5))"
   ]
  },
  {
   "cell_type": "markdown",
   "metadata": {},
   "source": [
    "#### Conclusion\n",
    "By definition, the numerical error, or the discrepancy between the true value and the approximation, for the first approach is $0.000031605944869897$, while for the second approach it is $-0.000000002326031623$‬.The second approach is closer to the true value of e^-5. <br>\n",
    "    \n",
    "The approximation of the first approach is accurate up to <b>five (5) significant figures</b>, while the approximation of the second approach is accurate up to <b>nine (9) significant figures</b>. The approximation of the second approach is more accurate than the approximation of the first approach. <br>\n",
    "    \n",
    "The true percent relative error of the first approach is $0.4690738124563327%$, while the true percent relative error of the second approach is $0.00003452137013995593%$. The second approach has a significantly lower true percent relative error. <br>\n",
    "    \n",
    "The approximate error of the first approach is $2.3380286316698853%$, while the approximate error of the second approach is $0.000010564857908971307%$. The approximate error of the second approach is significantly lower than the approximate error of the first approach. <br>\n",
    "    \n",
    "Overall, the second approach is more accurate and precise than the first approach based on the acquired dataset. <br>\n",
    "\n",
    "The discrepancies between the values are due to the fact that, in the first approach, its formula considers both positive and negative values. The negative values are eliminated in the formula of the second approach, and thus this is able to provide a more accurate and precise approximation."
   ]
  },
  {
   "cell_type": "markdown",
   "metadata": {},
   "source": [
    "### 3. Evaluate the Maclaurin Series Expansion of $cos(x)$"
   ]
  },
  {
   "cell_type": "markdown",
   "metadata": {},
   "source": [
    "Given: <br>\n",
    "$cos (x) = 1 - \\frac{x^2}{2} + \\frac{x^4}{4!} + \\frac{x^6}{6!} + \\frac{x^8}{8!} + ...$ <br>\n",
    "Starting with the simplest version, $cos x = 1$, add terms one at a time to estimate $cos (\\frac{\\pi}{3})$. <br>\n",
    "\n",
    "After each new term is added, compute the true and approximate percent relative errors. Use Julia to determine the true value. <br>\n",
    "\n",
    "Add terms until the absolute value of the approximate error estimate falls below an error criterion conforming to two significant figures. Explain the reason if there are discrepancies in the errors."
   ]
  },
  {
   "cell_type": "code",
   "execution_count": 15,
   "metadata": {},
   "outputs": [
    {
     "data": {
      "text/plain": [
       "maclaurin_cos_expansion (generic function with 1 method)"
      ]
     },
     "execution_count": 15,
     "metadata": {},
     "output_type": "execute_result"
    }
   ],
   "source": [
    "function maclaurin_cos_expansion(x, sigfigs)\n",
    "#= Print out the term number, term, and then compute the true and approximate relative errors by comparing \n",
    "    it to the true value. Takes an input of x of cos(x). Call graph function after. =#\n",
    "    true_value = cos(x); true_error = 1; i = 2; approximate_error = 1\n",
    "    approximation = ([0.0, 1.0]) #array that will hold the approximations\n",
    "    specified_tolerance = 0.5*10^(2-sigfigs) #stopping criterion\n",
    "    println(\"Term #    Approximation               True Error          Relative Error\")\n",
    "    while approximate_error > specified_tolerance \n",
    "        true_error = abs((true_value - approximation[i])/true_value)*100\n",
    "        approximate_error = abs((approximation[i]-approximation[i-1])/approximation[i])*100\n",
    "        println(i-1, \"          \", approximation[i], \"       \", true_error, \"%      \", approximate_error,\"%\") \n",
    "        push!(approximation, (approximation[i]+((((-1)^(i-1))*(x^2(i-1)))/(factorial(big(2*(i-1)))))))\n",
    "        i += 1\n",
    "    end\n",
    "    graph_against_true_value(i, approximation, true_value)\n",
    "end"
   ]
  },
  {
   "cell_type": "code",
   "execution_count": 16,
   "metadata": {},
   "outputs": [
    {
     "ename": "LoadError",
     "evalue": "ArgumentError: Package PyPlot not found in current path:\n- Run `import Pkg; Pkg.add(\"PyPlot\")` to install the PyPlot package.\n",
     "output_type": "error",
     "traceback": [
      "ArgumentError: Package PyPlot not found in current path:\n- Run `import Pkg; Pkg.add(\"PyPlot\")` to install the PyPlot package.\n",
      "",
      "Stacktrace:",
      "  [1] require(into::Module, mod::Symbol)",
      "    @ Base .\\loading.jl:871",
      "  [2] top-level scope",
      "    @ ~\\.julia\\packages\\Plots\\kyYZF\\src\\backends.jl:505",
      "  [3] eval",
      "    @ .\\boot.jl:360 [inlined]",
      "  [4] _initialize_backend(#unused#::Plots.PyPlotBackend)",
      "    @ Plots ~\\.julia\\packages\\Plots\\kyYZF\\src\\backends.jl:504",
      "  [5] backend",
      "    @ ~\\.julia\\packages\\Plots\\kyYZF\\src\\backends.jl:174 [inlined]",
      "  [6] pyplot(; kw::Base.Iterators.Pairs{Union{}, Union{}, Tuple{}, NamedTuple{(), Tuple{}}})",
      "    @ Plots ~\\.julia\\packages\\Plots\\kyYZF\\src\\backends.jl:31",
      "  [7] pyplot()",
      "    @ Plots ~\\.julia\\packages\\Plots\\kyYZF\\src\\backends.jl:31",
      "  [8] top-level scope",
      "    @ In[16]:1",
      "  [9] eval",
      "    @ .\\boot.jl:360 [inlined]",
      " [10] include_string(mapexpr::typeof(REPL.softscope), mod::Module, code::String, filename::String)",
      "    @ Base .\\loading.jl:1094"
     ]
    }
   ],
   "source": [
    "using Plots; pyplot()\n",
    "function graph_against_true_value(terms, fx, true_value)\n",
    "#= Graphs the approximations by the number of terms and superimposes the true value. Takes\n",
    "    in the number of terms, the array to be approximated, and the true value to be superimposed as a\n",
    "    horizontal line. =#\n",
    "    println(\"\\n Graphing the approximations against the true value\")\n",
    "    t = 1:terms #x-axis \n",
    "    true_plot = []\n",
    "    plot(t, fx, linewidth=2, label=\"numerical approximation\", markershape = :circle)\n",
    "    for i = 0:terms #make an array with a size of terms full of true value to plot a horizontal line\n",
    "        push!(true_plot, true_value)\n",
    "    end\n",
    "    plot!(t, true_plot, linewidth=2, color=\"red\", label=\"true value\") #plot str8 line of true value\n",
    "    xlabel!(\"terms\")\n",
    "    ylabel!(\"approximation\")\n",
    "end"
   ]
  },
  {
   "cell_type": "code",
   "execution_count": 17,
   "metadata": {},
   "outputs": [
    {
     "name": "stdout",
     "output_type": "stream",
     "text": [
      "Estimating value of cos(pi/3) using Mclaurin Series Expansion\n",
      "True value of cos(pi/3) = 0.5000000000000001\n",
      "\n",
      "Term #    Approximation               True Error          Relative Error\n",
      "1          1.0       99.99999999999996%      100.0%\n",
      "2          0.45168864438392464       9.66227112321509%      121.39144130221342%\n",
      "3          0.501796201500181       0.3592403000361787%      9.985638983805318%\n",
      "4          0.4999645653289127       0.007086934217481742%      0.3663531974637684%\n"
     ]
    },
    {
     "ename": "LoadError",
     "evalue": "UndefVarError: graph_against_true_value not defined",
     "output_type": "error",
     "traceback": [
      "UndefVarError: graph_against_true_value not defined",
      "",
      "Stacktrace:",
      " [1] maclaurin_cos_expansion(x::Float64, sigfigs::Int64)",
      "   @ Main .\\In[15]:15",
      " [2] top-level scope",
      "   @ In[17]:4",
      " [3] eval",
      "   @ .\\boot.jl:360 [inlined]",
      " [4] include_string(mapexpr::typeof(REPL.softscope), mod::Module, code::String, filename::String)",
      "   @ Base .\\loading.jl:1094"
     ]
    }
   ],
   "source": [
    "println(\"Estimating value of cos(pi/3) using Mclaurin Series Expansion\")\n",
    "println(\"True value of cos(pi/3) = \", cos((pi)/3) ,\"\\n\")\n",
    "\n",
    "maclaurin_cos_expansion((pi)/3, 2)"
   ]
  },
  {
   "cell_type": "markdown",
   "metadata": {},
   "source": [
    "#### Conclusion\n",
    "The numerical error, or the discrepancy between the true value and the approximation, is $0.0000354346710874$. <br>\n",
    "\n",
    "This value could have been mitigated better with more iterations and terms, which was not possible due to the specified percent tolerance of $0.5\\%$, maintaining the stopping criteria of an accuracy within 2 significant figures, which is evident in the comparison between the true value and the approximation."
   ]
  },
  {
   "cell_type": "markdown",
   "metadata": {},
   "source": [
    "### References\n",
    "1. Juan Glicerio C. Manlapaz - for the 1.c. Calculus Method formula"
   ]
  }
 ],
 "metadata": {
  "kernelspec": {
   "display_name": "Julia 1.6.0",
   "language": "julia",
   "name": "julia-1.6"
  },
  "language_info": {
   "file_extension": ".jl",
   "mimetype": "application/julia",
   "name": "julia",
   "version": "1.6.0"
  }
 },
 "nbformat": 4,
 "nbformat_minor": 4
}
